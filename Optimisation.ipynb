{
 "cells": [
  {
   "cell_type": "markdown",
   "id": "412b3af7-bf6e-4ac6-ace6-3aabfcd1ea78",
   "metadata": {
    "tags": []
   },
   "source": [
    "# Algorithme Newton-Raphson"
   ]
  },
  {
   "cell_type": "code",
   "execution_count": 5,
   "id": "f6f35bc8-94c1-49f5-bcc0-8f9bd1b74ff2",
   "metadata": {},
   "outputs": [],
   "source": [
    "import sympy as smp\n",
    "from math import sqrt, isclose\n",
    "import numpy as np\n",
    "from math import exp, expm1"
   ]
  },
  {
   "cell_type": "code",
   "execution_count": 12,
   "id": "f7d45239-5f86-4b32-8ac5-a5334ede49f3",
   "metadata": {},
   "outputs": [],
   "source": [
    "import numpy as np\n",
    "\n",
    "def fPrime(x):\n",
    "    return (5*2*x + 1)*np.sin(x) + (5*x**2 + x)*np.cos(x)\n",
    "\n",
    "def fSeconde(x):\n",
    "    return 5*2*np.sin(x) + (5*2*x + 1)*np.cos(x) + (5*2*x + 1)*np.cos(x) + (5*x**2 + x)*(-np.sin(x))\n",
    "\n",
    "def algo_NewtonRaphson(x, eps):\n",
    "\n",
    "    k = 0\n",
    "    \n",
    "    while abs(fPrime(x)) > eps:\n",
    "        x -= fPrime(x)/fSeconde(x)\n",
    "        print(x)\n",
    "        k += 1\n",
    "    \n",
    "    print(\"\\n{} est un minimum local de f, atteint à la {}ème itération\".format(round(x, 4), k))"
   ]
  },
  {
   "cell_type": "code",
   "execution_count": 13,
   "id": "94ac0a7c-2dff-46a5-9a37-abe4ff8edff6",
   "metadata": {},
   "outputs": [
    {
     "name": "stdout",
     "output_type": "stream",
     "text": [
      "-2.4238576465606196\n",
      "-2.3151268230108415\n",
      "-2.307892964514023\n",
      "\n",
      "-2.3079 est un minimum local de f, atteint à la 3ème itération\n"
     ]
    }
   ],
   "source": [
    "algo_NewtonRaphson(-2)"
   ]
  },
  {
   "cell_type": "markdown",
   "id": "84606d0a-29f4-44ee-bf4c-a90f53381a15",
   "metadata": {
    "tags": []
   },
   "source": [
    "# Algorithme Newton-Raphson avec garde-fous"
   ]
  },
  {
   "cell_type": "code",
   "execution_count": 41,
   "id": "7382815b-39fa-4a0a-92c4-cd479299515d",
   "metadata": {},
   "outputs": [],
   "source": [
    "import numpy as np\n",
    "\n",
    "#functions\n",
    "def f(x):\n",
    "    return (-x**2 - 1)*np.sin(x)\n",
    "def fPrime(x):\n",
    "    return -2*x*np.sin(x) + (-x**2 - 1)*np.cos(x)\n",
    "def fSeconde(x):\n",
    "    return -(2*np.sin(x) + 2*x*np.cos(x)) - 2*x*np.cos(x) + (-x**2 - 1)*(-np.sin(x))\n",
    "\n",
    "#algo\n",
    "def algo_NewtonRaphsonGF(x, a, b):\n",
    "    \n",
    "    eps = 0.01\n",
    "    k = 0\n",
    "    stopBorne = False\n",
    "    \n",
    "    while abs(fPrime(x)) > eps:\n",
    "        \n",
    "        if fSeconde(x) > 0:\n",
    "            delta = -fPrime(x)/fSeconde(x)\n",
    "        else:\n",
    "            delta = -fPrime(x)\n",
    "        \n",
    "        if x+delta > b:\n",
    "            delta = b - x\n",
    "        \n",
    "        if x+delta < a:\n",
    "            delta = a - x\n",
    "        \n",
    "        if delta == 0:\n",
    "            stopBorne = True\n",
    "        else:\n",
    "            while f(x+delta) >= f(x):\n",
    "                delta = delta/2\n",
    "        \n",
    "        x, k = x+delta, k+1\n",
    "        \n",
    "        print(\"Valeur de x : {} (à la {}ème itération)\".format(round(x, 4), k))"
   ]
  },
  {
   "cell_type": "code",
   "execution_count": 42,
   "id": "ce12b7e5-1023-4f08-8df4-ff3475c21555",
   "metadata": {},
   "outputs": [
    {
     "name": "stdout",
     "output_type": "stream",
     "text": [
      "Valeur de x : 2.0 (à la 1ème itération)\n",
      "Valeur de x : 2.257 (à la 2ème itération)\n",
      "Valeur de x : 2.2155 (à la 3ème itération)\n"
     ]
    }
   ],
   "source": [
    "algo_NewtonRaphsonGF(1, a=-3, b=3)"
   ]
  },
  {
   "cell_type": "markdown",
   "id": "abb207c6-c42a-45e8-bef1-5a3463229235",
   "metadata": {
    "tags": []
   },
   "source": [
    "# Algorithme méthode dichotomique (sans dérivées)"
   ]
  },
  {
   "cell_type": "code",
   "execution_count": 1,
   "id": "a716a5cb-cf5d-4407-853b-0e9a1a70a768",
   "metadata": {},
   "outputs": [],
   "source": [
    "import numpy as np\n",
    "\n",
    "def f(x):\n",
    "    return 2*x**2*np.sin(x) + np.abs(2*x**2 + 2*x)\n",
    "\n",
    "def algo_dichotomique(a, b, l, eps):\n",
    "    \n",
    "    k = 1\n",
    "    \n",
    "    while (b-a) > l:\n",
    "        x1 = (a+b)/2 - eps\n",
    "        x2 = (a+b)/2 + eps\n",
    "        \n",
    "        if f(x1) < f(x2):\n",
    "            b = x2\n",
    "        else:\n",
    "            a = x1\n",
    "        \n",
    "        print(\"Valeur de a = {} et b = {} à la {}ème itération\".format(round(a,4), round(b,4), k))\n",
    "        k = k + 1"
   ]
  },
  {
   "cell_type": "code",
   "execution_count": 2,
   "id": "0c472d34-518f-40d6-a44e-3effdf727b8c",
   "metadata": {},
   "outputs": [
    {
     "name": "stdout",
     "output_type": "stream",
     "text": [
      "Valeur de a = 0 et b = 1.3 à la 1ème itération\n",
      "Valeur de a = 0 et b = 0.7 à la 2ème itération\n",
      "Valeur de a = 0 et b = 0.4 à la 3ème itération\n",
      "Valeur de a = 0 et b = 0.25 à la 4ème itération\n",
      "Valeur de a = 0 et b = 0.175 à la 5ème itération\n"
     ]
    }
   ],
   "source": [
    "algo_dichotomique(l=0.2, eps=0.05, a=0, b=2.5)"
   ]
  },
  {
   "cell_type": "markdown",
   "id": "eff2f30e-7a20-4450-b820-676b0e1b7404",
   "metadata": {
    "tags": []
   },
   "source": [
    "# Algorithme nombre d'or"
   ]
  },
  {
   "cell_type": "code",
   "execution_count": 3,
   "id": "8dd71556-394e-4a4e-9f2b-b274b114ae19",
   "metadata": {},
   "outputs": [],
   "source": [
    "import numpy as np\n",
    "\n",
    "def f(x):\n",
    "    return x**4 - 5*x**2 - 5 + np.abs(x**2 - 3)\n",
    "\n",
    "def algo_nombreOr(a, b, alpha, l=0.2):\n",
    "    \n",
    "    k = 1\n",
    "    \n",
    "    x = a + (1 - alpha)*(b - a)\n",
    "    y = a + alpha * (b - a)\n",
    "    \n",
    "    while (b-a) > l:\n",
    "        \n",
    "        if f(x)<f(y):\n",
    "            b = y\n",
    "            y = x\n",
    "            x = a + (1 - alpha) * (b - a)\n",
    "        else:\n",
    "            a = x\n",
    "            x = y\n",
    "            y = a + alpha * (b - a)\n",
    "        \n",
    "        print(\"Valeur de a = {} et b = {} à la {}ème itération\".format(round(a,4), round(b,4), k))\n",
    "        k += 1 "
   ]
  },
  {
   "cell_type": "code",
   "execution_count": 4,
   "id": "72bd4986-778b-4cd8-8d54-cf6f38609ed4",
   "metadata": {},
   "outputs": [
    {
     "name": "stdout",
     "output_type": "stream",
     "text": [
      "Valeur de a = -3.281 et b = -0.5 à la 1ème itération\n",
      "Valeur de a = -2.219 et b = -0.5 à la 2ème itération\n",
      "Valeur de a = -2.219 et b = -1.1567 à la 3ème itération\n",
      "Valeur de a = -1.8132 et b = -1.1567 à la 4ème itération\n",
      "Valeur de a = -1.8132 et b = -1.4075 à la 5ème itération\n",
      "Valeur de a = -1.8132 et b = -1.5623 à la 6ème itération\n",
      "Valeur de a = -1.8132 et b = -1.6582 à la 7ème itération\n"
     ]
    }
   ],
   "source": [
    "algo_nombreOr(a=-5, b=-0.5, alpha=0.618)"
   ]
  },
  {
   "cell_type": "markdown",
   "id": "8f45fb79-043c-489c-aa7d-351783e3e179",
   "metadata": {
    "jp-MarkdownHeadingCollapsed": true,
    "tags": []
   },
   "source": [
    "# Méthode des coordonnées cycliques sans accélération"
   ]
  },
  {
   "cell_type": "code",
   "execution_count": null,
   "id": "e82ee1e8-7c76-4e64-a9e0-9236318ca1c5",
   "metadata": {},
   "outputs": [],
   "source": [
    "import numpy as np\n",
    "\n",
    "def f(x):\n",
    "    return x\n",
    "\n",
    "def algo_cycle(x_init, n, eps=0.05):\n",
    "    \n",
    "    k = 0\n",
    "    x = []\n",
    "    \n",
    "    while k<=n or np.norm(x[k +1] - x[k-n +1])>eps:\n",
    "        d = e(k%(n+1))\n",
    "        s = np.argmin(f(x + s*d))\n",
    "        x = x + s*d\n",
    "        k += 1"
   ]
  },
  {
   "cell_type": "code",
   "execution_count": null,
   "id": "f7d6d4f5-9cc9-4b55-802b-ef0a6bc8eda5",
   "metadata": {},
   "outputs": [],
   "source": []
  },
  {
   "cell_type": "markdown",
   "id": "5539bc8c-fb2f-4e55-83df-062d76e5b817",
   "metadata": {
    "jp-MarkdownHeadingCollapsed": true,
    "tags": []
   },
   "source": [
    "# Méthode des coordonnées cycliques avec accélération"
   ]
  },
  {
   "cell_type": "code",
   "execution_count": null,
   "id": "e9bd1554-3bde-4309-a272-996c22e933e7",
   "metadata": {},
   "outputs": [],
   "source": [
    "import numpy as np\n",
    "\n",
    "def f(x):\n",
    "    return x\n",
    "\n",
    "def algo_cycle(x_init, n, eps>0.05):\n",
    "    \n",
    "    k = 0\n",
    "    x = []\n",
    "    \n",
    "    while k<=n or np.norm(x[k +1] - x[k-n +1]):\n",
    "        d = e(k%(n+1))\n",
    "        s = np.argmin(f(x + s*d))\n",
    "        x = x + s*d\n",
    "        k += 1\n",
    "        \n",
    "        if k%n == 0:\n",
    "            s2 = np.argmin( f(x[k +1] + s*(x[k +1] - x[k-n +1])) )\n",
    "            x = x + s2*(x[k +1] - x[k-n +1])"
   ]
  },
  {
   "cell_type": "code",
   "execution_count": null,
   "id": "44e88889-e76a-4a45-89fd-5d754006536b",
   "metadata": {},
   "outputs": [],
   "source": []
  },
  {
   "cell_type": "markdown",
   "id": "3456ec7f-a00b-40c2-9cad-9cdc63b56d39",
   "metadata": {},
   "source": [
    "# Méthode de la pente la plus forte"
   ]
  },
  {
   "cell_type": "code",
   "execution_count": null,
   "id": "55cb30b1-fe72-4a16-b879-9171c14c48ca",
   "metadata": {},
   "outputs": [],
   "source": []
  },
  {
   "cell_type": "code",
   "execution_count": null,
   "id": "4ae3b0c8-4365-4c51-b936-c2ebf548db24",
   "metadata": {},
   "outputs": [],
   "source": []
  },
  {
   "cell_type": "code",
   "execution_count": null,
   "id": "f86ec6bb-eef3-4e05-b518-365c922e5ae5",
   "metadata": {},
   "outputs": [],
   "source": []
  },
  {
   "cell_type": "code",
   "execution_count": null,
   "id": "05c7aea5-d6e8-4db5-84df-28717b59fe2b",
   "metadata": {},
   "outputs": [],
   "source": []
  },
  {
   "cell_type": "code",
   "execution_count": null,
   "id": "0e2f6883-c8c5-4d86-b9be-6d80053c30c3",
   "metadata": {},
   "outputs": [],
   "source": []
  },
  {
   "cell_type": "code",
   "execution_count": null,
   "id": "fd1406ad-9608-4fb2-9e03-f51e81376ea2",
   "metadata": {},
   "outputs": [],
   "source": []
  }
 ],
 "metadata": {
  "kernelspec": {
   "display_name": "Python 3 (ipykernel)",
   "language": "python",
   "name": "python3"
  },
  "language_info": {
   "codemirror_mode": {
    "name": "ipython",
    "version": 3
   },
   "file_extension": ".py",
   "mimetype": "text/x-python",
   "name": "python",
   "nbconvert_exporter": "python",
   "pygments_lexer": "ipython3",
   "version": "3.9.12"
  }
 },
 "nbformat": 4,
 "nbformat_minor": 5
}
